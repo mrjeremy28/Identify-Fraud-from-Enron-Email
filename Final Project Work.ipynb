{
 "cells": [
  {
   "cell_type": "code",
   "execution_count": 170,
   "metadata": {},
   "outputs": [],
   "source": [
    "import sys\n",
    "import pickle\n",
    "sys.path.append(\"/Volumes/UsersHD/MovedUsers/jeremyadams/Development/Personal/School/C753 - Machine Learning/ud120-projects/tools/\")\n",
    "sys.path.append('/Volumes/UsersHD/MovedUsers/jeremyadams/Development/Personal/School/C753 - Machine Learning/ud120-projects/choose_your_own')\n",
    "sys.path.append('/Volumes/UsersHD/MovedUsers/jeremyadams/Development/Personal/School/C753 - Machine Learning/ud120-projects/datasets_questions')\n",
    "\n",
    "import os\n",
    "os.chdir('/Volumes/UsersHD/MovedUsers/jeremyadams/Development/Personal/School/C753 - Machine Learning/ud120-projects/evaluation')\n",
    "\n",
    "from feature_format import featureFormat, targetFeatureSplit\n",
    "# from tester import dump_classifier_and_data\n",
    "import pprint\n",
    "pp = pprint.PrettyPrinter(indent = 4)\n",
    "\n",
    "from time import time"
   ]
  },
  {
   "cell_type": "code",
   "execution_count": 234,
   "metadata": {},
   "outputs": [],
   "source": [
    "### Task 1: Select what features you'll use.\n",
    "### features_list is a list of strings, each of which is a feature name.\n",
    "### The first feature must be \"poi\".\n",
    "features_list = ['poi','salary'] # You will need to use more features\n",
    "financial_features = ['salary', 'deferral_payments', 'total_payments', 'loan_advances', \n",
    "        'bonus', 'restricted_stock_deferred', 'deferred_income', 'total_stock_value', 'expenses', \n",
    "        'exercised_stock_options', 'other', 'long_term_incentive', 'restricted_stock', 'director_fees'] \n",
    "        # (all units are in US dollars)\n",
    "email_features = ['to_messages', 'email_address', 'from_poi_to_this_person', 'from_messages', 'from_this_person_to_poi', 'shared_receipt_with_poi']\n",
    "\n",
    "total_features = ['poi'] + financial_features + email_features\n",
    "original_total_features = ['poi'] + financial_features + email_features\n",
    "### Load the dictionary containing the dataset\n",
    "# with open(\"final_project_dataset.pkl\", \"r\") as data_file:\n",
    "#     data_dict = pickle.load(data_file)\n",
    "data_dict = pickle.load(open(\"/Volumes/UsersHD/MovedUsers/jeremyadams/Development/Personal/School/C753 - Machine Learning/ud120-projects/final_project/final_project_dataset.pkl\", \"r\") )\n",
    "\n"
   ]
  },
  {
   "cell_type": "code",
   "execution_count": 70,
   "metadata": {},
   "outputs": [
    {
     "name": "stdout",
     "output_type": "stream",
     "text": [
      "Total Number of data points:  146\n"
     ]
    }
   ],
   "source": [
    "# Print total number of data points\n",
    "print 'Total Number of data points: ', len(data_dict)\n"
   ]
  },
  {
   "cell_type": "code",
   "execution_count": 71,
   "metadata": {},
   "outputs": [
    {
     "name": "stdout",
     "output_type": "stream",
     "text": [
      "Person of Interest is:  HANNON KEVIN P\n",
      "Person of Interest is:  COLWELL WESLEY\n",
      "Person of Interest is:  RIEKER PAULA H\n",
      "Person of Interest is:  KOPPER MICHAEL J\n",
      "Person of Interest is:  SHELBY REX\n",
      "Person of Interest is:  DELAINEY DAVID W\n",
      "Person of Interest is:  LAY KENNETH L\n",
      "Person of Interest is:  BOWEN JR RAYMOND M\n",
      "Person of Interest is:  BELDEN TIMOTHY N\n",
      "Person of Interest is:  FASTOW ANDREW S\n",
      "Person of Interest is:  CALGER CHRISTOPHER F\n",
      "Person of Interest is:  RICE KENNETH D\n",
      "Person of Interest is:  SKILLING JEFFREY K\n",
      "Person of Interest is:  YEAGER F SCOTT\n",
      "Person of Interest is:  HIRKO JOSEPH\n",
      "Person of Interest is:  KOENIG MARK E\n",
      "Person of Interest is:  CAUSEY RICHARD A\n",
      "Person of Interest is:  GLISAN JR BEN F\n"
     ]
    }
   ],
   "source": [
    "\n",
    "# find features with missing values\n",
    "# print total_features\n",
    "features_with_missing_values = {}\n",
    "for key in total_features:\n",
    "    features_with_missing_values[key] = 0\n",
    "\n",
    "# find number of poi\n",
    "poi_list = []\n",
    "for employee_key in data_dict:\n",
    "    # if employee is poi then insert into poi list\n",
    "    if (data_dict[employee_key]['poi'] == True):\n",
    "        poi_list.append(data_dict[employee_key])\n",
    "        print \"Person of Interest is: \", employee_key\n",
    "        # print data_dict[employee_key].keys()\n",
    "    # increment missing features key if NaN or blank\n",
    "    for feature in data_dict[employee_key]:\n",
    "        if data_dict[employee_key][feature] == 'NaN' or feature not in features_with_missing_values:\n",
    "            features_with_missing_values[feature] += 1\n",
    "#             data_dict[employee_key][feature] = 0"
   ]
  },
  {
   "cell_type": "code",
   "execution_count": 227,
   "metadata": {},
   "outputs": [
    {
     "name": "stdout",
     "output_type": "stream",
     "text": [
      "Number of POI:  18\n",
      "Number of Non-POI:  127\n",
      "Total Number of features:  22\n",
      "Missing feature count\n",
      "{   'bonus': 64,\n",
      "    'deferral_payments': 107,\n",
      "    'deferred_income': 97,\n",
      "    'director_fees': 129,\n",
      "    'email_address': 35,\n",
      "    'exercised_stock_options': 44,\n",
      "    'expenses': 51,\n",
      "    'from_messages': 60,\n",
      "    'from_poi_to_this_person': 60,\n",
      "    'from_this_person_to_poi': 60,\n",
      "    'loan_advances': 142,\n",
      "    'long_term_incentive': 80,\n",
      "    'other': 53,\n",
      "    'poi': 0,\n",
      "    'restricted_stock': 36,\n",
      "    'restricted_stock_deferred': 128,\n",
      "    'salary': 51,\n",
      "    'shared_receipt_with_poi': 60,\n",
      "    'to_messages': 60,\n",
      "    'total_payments': 21,\n",
      "    'total_stock_value': 20}\n"
     ]
    }
   ],
   "source": [
    "\n",
    "# print number of poi\n",
    "print \"Number of POI: \", len(poi_list)\n",
    "# print number of non poi\n",
    "print \"Number of Non-POI: \", len(data_dict) - len(poi_list)\n",
    "\n",
    "# print total number of features\n",
    "print \"Total Number of features: \", len(total_features)\n",
    "\n",
    "# print missing value count of features\n",
    "print \"Missing feature count\"\n",
    "pp.pprint(features_with_missing_values)"
   ]
  },
  {
   "cell_type": "markdown",
   "metadata": {},
   "source": [
    "## Task 2"
   ]
  },
  {
   "cell_type": "code",
   "execution_count": 62,
   "metadata": {},
   "outputs": [],
   "source": [
    "def show_scatter(data, x, y):\n",
    "    # import matplot lib and show inline if possible\n",
    "    import matplotlib.pyplot as plot\n",
    "    % matplotlib inline\n",
    "    \n",
    "    # format features to get nice data to plot\n",
    "    data_formatted = featureFormat(data, [x, y], sort_keys=True)\n",
    "    \n",
    "    # loop through points and plot as scatter\n",
    "    for point in data_formatted:\n",
    "        x_data = point[0]\n",
    "        y_data = point[1]\n",
    "        plot.scatter(x_data, y_data)\n",
    "        \n",
    "    # show labels\n",
    "    plot.xlabel(x)\n",
    "    plot.ylabel(y)\n",
    "    plot.show()"
   ]
  },
  {
   "cell_type": "code",
   "execution_count": 73,
   "metadata": {},
   "outputs": [
    {
     "data": {
      "image/png": "[encoded data removed]",
      "text/plain": [
       "<Figure size 432x288 with 1 Axes>"
      ]
     },
     "metadata": {
      "needs_background": "light"
     },
     "output_type": "display_data"
    }
   ],
   "source": [
    "\n",
    "### Task 2: Remove outliers\n",
    "# There was a lesson showing outliers with graph, put here\n",
    "# enron_outliers.py\n",
    "\n",
    "show_scatter(data_dict, \"salary\", \"bonus\")"
   ]
  },
  {
   "cell_type": "code",
   "execution_count": 84,
   "metadata": {},
   "outputs": [],
   "source": [
    "def show_possible_outlier(data, feature):\n",
    "    largest_amount = 0\n",
    "    # loop through keys and find largest amount and not NaN\n",
    "    for key in data:\n",
    "        if data[key][feature] != 'NaN':\n",
    "            if data[key][feature] > largest_amount:\n",
    "                largest_amount = data_dict[key][feature] \n",
    "                largest_amount_key = key\n",
    "    # print largest amount\n",
    "    print \"Possible Outlier: \"\n",
    "    print largest_amount_key\n",
    "    print largest_amount"
   ]
  },
  {
   "cell_type": "code",
   "execution_count": 85,
   "metadata": {},
   "outputs": [
    {
     "name": "stdout",
     "output_type": "stream",
     "text": [
      "Possible Outlier: \n",
      "TOTAL\n",
      "26704229\n",
      "Possible Outlier: \n",
      "TOTAL\n",
      "97343619\n"
     ]
    }
   ],
   "source": [
    "show_possible_outlier(data_dict, \"salary\")\n",
    "show_possible_outlier(data_dict, \"bonus\")"
   ]
  },
  {
   "cell_type": "code",
   "execution_count": 86,
   "metadata": {},
   "outputs": [
    {
     "name": "stdout",
     "output_type": "stream",
     "text": [
      "Possible Outlier: \n",
      "SKILLING JEFFREY K\n",
      "1111258\n",
      "Possible Outlier: \n",
      "LAVORATO JOHN J\n",
      "8000000\n"
     ]
    }
   ],
   "source": [
    "data_dict.pop(\"TOTAL\", 0)\n",
    "show_possible_outlier(data_dict, \"salary\")\n",
    "show_possible_outlier(data_dict, \"bonus\")"
   ]
  },
  {
   "cell_type": "code",
   "execution_count": 80,
   "metadata": {},
   "outputs": [
    {
     "data": {
      "image/png": "[encoded data removed]",
      "text/plain": [
       "<Figure size 432x288 with 1 Axes>"
      ]
     },
     "metadata": {
      "needs_background": "light"
     },
     "output_type": "display_data"
    }
   ],
   "source": [
    "show_scatter(data_dict, \"salary\", \"bonus\")"
   ]
  },
  {
   "cell_type": "markdown",
   "metadata": {},
   "source": [
    "## Task 3"
   ]
  },
  {
   "cell_type": "code",
   "execution_count": 87,
   "metadata": {},
   "outputs": [],
   "source": [
    "### Task 3: Create new feature(s)\n",
    "# There was a lesson that had messages from and to poi\n",
    "\n",
    "### Store to my_dataset for easy export below.\n",
    "my_dataset = data_dict"
   ]
  },
  {
   "cell_type": "code",
   "execution_count": 96,
   "metadata": {},
   "outputs": [],
   "source": [
    "# email_features = ['to_messages', 'email_address', 'from_poi_to_this_person', \n",
    "#                  'from_messages', 'from_this_person_to_poi', 'shared_receipt_with_poi']\n",
    "\n",
    "# loop through employees and calculate fraction to/from poi\n",
    "for employee in my_dataset:\n",
    "    # calculate the fraction of emails from poi\n",
    "    my_dataset[employee][\"fraction_from_poi\"] = 0.\n",
    "    # divide from_poi_to_this_person by to_messages\n",
    "    if my_dataset[employee][\"from_poi_to_this_person\"] != 'NaN' and my_dataset[employee][\"to_messages\"]!='NaN' and my_dataset[employee][\"to_messages\"] != 0:\n",
    "        my_dataset[employee][\"fraction_from_poi\"] = my_dataset[employee][\"from_poi_to_this_person\"] / float(my_dataset[employee][\"to_messages\"])\n",
    "    \n",
    "    # calculate the fraction of emails to poi \n",
    "    my_dataset[employee][\"fraction_to_poi\"] = 0.\n",
    "    # divide from_this_person_to_poi and from_messages\n",
    "    if my_dataset[employee][\"from_this_person_to_poi\"] != 'NaN' and my_dataset[employee][\"from_messages\"]!='NaN' and my_dataset[employee][\"from_messages\"] != 0:\n",
    "        my_dataset[employee][\"fraction_to_poi\"] = my_dataset[employee][\"from_this_person_to_poi\"] / float(my_dataset[employee][\"from_messages\"])\n",
    "#     print employee\n",
    "#     print my_dataset[employee]"
   ]
  },
  {
   "cell_type": "code",
   "execution_count": 97,
   "metadata": {},
   "outputs": [
    {
     "data": {
      "image/png": "[encoded data removed]",
      "text/plain": [
       "<Figure size 432x288 with 1 Axes>"
      ]
     },
     "metadata": {
      "needs_background": "light"
     },
     "output_type": "display_data"
    }
   ],
   "source": [
    "# plot scatter of new features\n",
    "show_scatter(data_dict, \"fraction_from_poi\", \"fraction_to_poi\")"
   ]
  },
  {
   "cell_type": "code",
   "execution_count": 104,
   "metadata": {},
   "outputs": [
    {
     "name": "stdout",
     "output_type": "stream",
     "text": [
      "['poi', 'salary', 'deferral_payments', 'total_payments', 'loan_advances', 'bonus', 'restricted_stock_deferred', 'deferred_income', 'total_stock_value', 'expenses', 'exercised_stock_options', 'other', 'long_term_incentive', 'restricted_stock', 'director_fees', 'to_messages', 'email_address', 'from_poi_to_this_person', 'from_messages', 'from_this_person_to_poi', 'shared_receipt_with_poi', 'fraction_from_poi', 'fraction_to_poi']\n"
     ]
    }
   ],
   "source": [
    "# Create new feature list for selecting best feature\n",
    "new_feature_list = total_features\n",
    "new_feature_list += [\"fraction_from_poi\", \"fraction_to_poi\"]\n",
    "\n",
    "# print new feature list\n",
    "print new_feature_list\n",
    "\n",
    "# need to remove email from new_feature_list b/c of conversion to float error\n",
    "new_feature_list.remove('email_address')\n",
    "original_total_features.remove('email_address')"
   ]
  },
  {
   "cell_type": "code",
   "execution_count": 161,
   "metadata": {},
   "outputs": [
    {
     "data": {
      "text/plain": [
       "SelectKBest(k=10, score_func=<function f_classif at 0x1a1ab92488>)"
      ]
     },
     "execution_count": 161,
     "metadata": {},
     "output_type": "execute_result"
    }
   ],
   "source": [
    "### Extract features and labels from dataset for local testing\n",
    "# featureFormat removes features with all zeros and converts NaNs to 0\n",
    "data = featureFormat(my_dataset, new_feature_list, sort_keys = True)\n",
    "labels, features = targetFeatureSplit(data)\n",
    "\n",
    "# Pick out best feature using SelectKBest \n",
    "\"\"\"\n",
    "params for score_func\n",
    "f_classif - ANOVA F-value between label/feature for classification tasks.\n",
    "mutual_info_classif - Mutual information for a discrete target.\n",
    "chi2 - Chi-squared stats of non-negative features for classification tasks.\n",
    "f_regression - F-value between label/feature for regression tasks.\n",
    "mutual_info_regression - Mutual information for a continuous target.\n",
    "SelectPercentile - Select features based on percentile of the highest scores.\n",
    "SelectFpr - Select features based on a false positive rate test.\n",
    "SelectFdr - Select features based on an estimated false discovery rate.\n",
    "SelectFwe - Select features based on family-wise error rate.\n",
    "GenericUnivariateSelect - Univariate feature selector with configurable mode.\n",
    "\"\"\"\n",
    "from sklearn.feature_selection import SelectKBest, f_classif\n",
    "# Select features using KBest\n",
    "feature_select = SelectKBest(f_classif, k=10)\n",
    "# Train using features from targetFeatureSplit function\n",
    "feature_select.fit(features, labels)\n"
   ]
  },
  {
   "cell_type": "code",
   "execution_count": 162,
   "metadata": {},
   "outputs": [
    {
     "name": "stdout",
     "output_type": "stream",
     "text": [
      "[18.57570327  0.21705893  8.86672154  7.2427304  21.06000171  0.06498431\n",
      " 11.59554766 24.46765405  6.23420114 25.09754153  4.20497086 10.07245453\n",
      "  9.34670079  2.10765594  1.69882435  5.34494152  0.1641645   2.42650813\n",
      "  8.74648553  3.21076192 16.64170707]\n"
     ]
    }
   ],
   "source": [
    "# print out scores to get a preview\n",
    "print feature_select.scores_\n",
    "\n",
    "# Create function to choose the 2nd element for sorting later\n",
    "def choose_2nd_element(element):\n",
    "    return element[1]"
   ]
  },
  {
   "cell_type": "code",
   "execution_count": 168,
   "metadata": {},
   "outputs": [
    {
     "name": "stdout",
     "output_type": "stream",
     "text": [
      "[   ('exercised_stock_options', 25.09754152873549),\n",
      "    ('total_stock_value', 24.4676540475264),\n",
      "    ('bonus', 21.06000170753657),\n",
      "    ('salary', 18.575703268041785),\n",
      "    ('fraction_to_poi', 16.64170707046899),\n",
      "    ('deferred_income', 11.5955476597306),\n",
      "    ('long_term_incentive', 10.072454529369441),\n",
      "    ('restricted_stock', 9.346700791051488),\n",
      "    ('total_payments', 8.866721537107772),\n",
      "    ('shared_receipt_with_poi', 8.74648553212908),\n",
      "    ('loan_advances', 7.242730396536018),\n",
      "    ('expenses', 6.23420114050674),\n",
      "    ('from_poi_to_this_person', 5.344941523147337),\n",
      "    ('other', 4.204970858301416),\n",
      "    ('fraction_from_poi', 3.210761916966744),\n",
      "    ('from_this_person_to_poi', 2.426508127242878),\n",
      "    ('director_fees', 2.107655943276091),\n",
      "    ('to_messages', 1.69882434858085),\n",
      "    ('deferral_payments', 0.2170589303395084),\n",
      "    ('from_messages', 0.16416449823428736),\n",
      "    ('restricted_stock_deferred', 0.06498431172371151)]\n"
     ]
    }
   ],
   "source": [
    "# map features to scores, making sure to skip the first element which is poi\n",
    "scores = zip(new_feature_list[1:], feature_select.scores_)\n",
    "# Sort the scores using 2nd element which is the value, \n",
    "# sort in reverse to get highest values first\n",
    "scores = sorted(scores, key=choose_2nd_element, reverse = True)\n",
    "# print out scores\n",
    "pp.pprint(scores)"
   ]
  },
  {
   "cell_type": "code",
   "execution_count": 165,
   "metadata": {},
   "outputs": [
    {
     "name": "stdout",
     "output_type": "stream",
     "text": [
      "KBest ['poi', 'exercised_stock_options', 'total_stock_value', 'bonus', 'salary', 'fraction_to_poi', 'deferred_income', 'long_term_incentive', 'restricted_stock', 'total_payments', 'shared_receipt_with_poi']\n"
     ]
    }
   ],
   "source": [
    "# create kBest features by taking top 10 from scores list and add poi to begginning\n",
    "kBest_features = ['poi'] + [(i[0]) for i in scores[0:10]]\n",
    "print 'KBest', kBest_features"
   ]
  },
  {
   "cell_type": "markdown",
   "metadata": {},
   "source": [
    "## Task 4"
   ]
  },
  {
   "cell_type": "code",
   "execution_count": null,
   "metadata": {},
   "outputs": [],
   "source": [
    "features_train, features_test, labels_train, labels_test = train_test_split(features, labels, test_size=0.3, random_state=42)\n"
   ]
  },
  {
   "cell_type": "code",
   "execution_count": 308,
   "metadata": {},
   "outputs": [],
   "source": [
    "### Task 4: Try a varity of classifiers\n",
    "### Please name your classifier clf for easy export below.\n",
    "### Note that if you want to do PCA or other multi-stage operations,\n",
    "### you'll need to use Pipelines. For more info:\n",
    "### http://scikit-learn.org/stable/modules/pipeline.html\n",
    "\n",
    "# lesson 15 for evaluate_poi_identifier.py\n",
    "# split data to 30% for training\n",
    "from sklearn.model_selection import train_test_split\n",
    "from sklearn.metrics import accuracy_score, precision_score, recall_score\n",
    "\n",
    "\n",
    "def mean_scores(clf, classifier_name, features, labels, iters = 80):\n",
    "    \"\"\" \n",
    "    \"\"\"\n",
    "    acc = []\n",
    "    pre = []\n",
    "    recall = []\n",
    "    t0 = time()\n",
    "    for i in range(iters):\n",
    "        features_train, features_test, labels_train, labels_test = \\\n",
    "        train_test_split(features, labels, test_size = 0.3, random_state = i)\n",
    "        clf.fit(features_train, labels_train)\n",
    "        predicts = clf.predict(features_test)\n",
    "\n",
    "        acc = acc + [accuracy_score(labels_test, predicts)] \n",
    "        pre = pre + [precision_score(labels_test, predicts)]\n",
    "        recall = recall + [recall_score(labels_test, predicts)]\n",
    "        \n",
    "    print \"{0} took a total time of {1}\".format(classifier_name, round(time()-t0, 3), \"s\")\n",
    "#     print \"accuracy: {}\".format(np.mean(acc))\n",
    "#     print \"precision: {}\".format(np.mean(pre))\n",
    "#     print \"recall: {}\".format(np.mean(recall))\n",
    "    return np.mean(acc), np.mean(pre), np.mean(recall)\n",
    "    \n",
    "def algo_get_scores(clf, classifier_name, dataset, features, scale = True):\n",
    "    from sklearn import preprocessing\n",
    "    data = featureFormat(dataset, features, sort_keys = True)\n",
    "    labels, features = targetFeatureSplit(data)\n",
    "    if scale:\n",
    "        scaler = preprocessing.MinMaxScaler()\n",
    "        features = scaler.fit_transform(features)\n",
    "\n",
    "    acc_score, prec_score, rec_score = mean_scores(clf, classifier_name, features, labels)\n",
    "    # return values\n",
    "    return acc_score, prec_score, rec_score\n",
    "\n",
    "def algo_performance(clf, classifier_name, dataset, orig_features, new_features):\n",
    "    \n",
    "    orig_accuracy_score, orig_precision_score, orig_recall_score = \\\n",
    "        algo_get_scores(clf, classifier_name, dataset, orig_features, True)\n",
    "    \n",
    "    new_accuracy_score, new_precision_score, new_recall_score = \\\n",
    "        algo_get_scores(clf, classifier_name, dataset, new_features, True)\n",
    "    \n",
    "    return {classifier_name: [orig_accuracy_score, orig_precision_score, orig_recall_score, new_accuracy_score, new_precision_score, new_recall_score]}\n",
    "#     # reset timeer for logging time to train\n",
    "#     t0 = time()\n",
    "#     # fit features and labels\n",
    "#     clf.fit(features_train, labels_train)\n",
    "#     # print training time\n",
    "#     print \"{0} training time: {1}\".format(classifier_name, round(time()-t0, 3), \"s\")\n",
    "#     # reset timeer for logging time to predict\n",
    "#     t0 = time()\n",
    "#     # make prediction\n",
    "#     pred = clf.predict(features_test)\n",
    "#     # print time to predict\n",
    "#     print \"{0} predicting time: {1}\".format(classifier_name, round(time()-t0, 3), \"s\")\n",
    "#     # Print Accuracy, Precision, and Recall stats\n",
    "#     print \"{0} accuracy: {1}\".format(classifier_name, accuracy_score(labels_test, pred))\n",
    "#     print \"{0} precision: {1}\".format(classifier_name, precision_score(labels_test, pred))\n",
    "#     print \"{0} recall: {1}\".format(classifier_name, recall_score(labels_test, pred))\n",
    "#     print \"\"\n",
    "#     return {classifier_name: }\n"
   ]
  },
  {
   "cell_type": "code",
   "execution_count": 310,
   "metadata": {},
   "outputs": [
    {
     "name": "stdout",
     "output_type": "stream",
     "text": [
      "['poi', 'exercised_stock_options', 'total_stock_value', 'bonus', 'salary', 'fraction_to_poi', 'deferred_income', 'long_term_incentive', 'restricted_stock', 'total_payments', 'shared_receipt_with_poi']\n",
      "['poi', 'exercised_stock_options', 'total_stock_value', 'bonus', 'salary', 'deferred_income', 'long_term_incentive', 'restricted_stock', 'total_payments', 'shared_receipt_with_poi']\n",
      "Naive Bayes took a total time of 0.322\n",
      "Naive Bayes took a total time of 0.322\n",
      "Decision Tree took a total time of 0.286\n",
      "Decision Tree took a total time of 0.282\n"
     ]
    },
    {
     "name": "stderr",
     "output_type": "stream",
     "text": [
      "/Volumes/UsersHD/MovedUsers/jeremyadams/anaconda2/lib/python2.7/site-packages/sklearn/ensemble/forest.py:246: FutureWarning: The default value of n_estimators will change from 10 in version 0.20 to 100 in 0.22.\n",
      "  \"10 in version 0.20 to 100 in 0.22.\", FutureWarning)\n"
     ]
    },
    {
     "name": "stdout",
     "output_type": "stream",
     "text": [
      "Random Forest took a total time of 3.618\n",
      "Random Forest took a total time of 3.591\n",
      "AdaBoost took a total time of 15.689\n",
      "AdaBoost took a total time of 15.601\n",
      "Support Vector took a total time of 0.318\n",
      "Support Vector took a total time of 0.308\n",
      "{'Support Vector': [0.875284090909091, 0.0, 0.0, 0.875284090909091, 0.0, 0.0], 'Naive Bayes': [0.846590909090909, 0.39506583694083697, 0.3348065476190476, 0.8494318181818181, 0.4011507936507936, 0.33782738095238096], 'Random Forest': [0.8696022727272726, 0.38273809523809527, 0.16802579365079362, 0.8630681818181818, 0.3441666666666667, 0.15552579365079364], 'AdaBoost': [0.8375, 0.3183382936507936, 0.23898313492063492, 0.8380681818181817, 0.2827209249084249, 0.21910218253968256], 'Decision Tree': [0.828125, 0.32359397546897545, 0.31741071428571427, 0.805965909090909, 0.2571411574536574, 0.27485119047619044]}\n"
     ]
    }
   ],
   "source": [
    "original_features = ['poi', 'exercised_stock_options', 'total_stock_value', 'bonus', 'salary', 'fraction_to_poi', 'deferred_income', 'long_term_incentive', 'restricted_stock', 'total_payments', 'shared_receipt_with_poi']\n",
    "new_features = ['poi', 'exercised_stock_options', 'total_stock_value', 'bonus', 'salary', 'deferred_income', 'long_term_incentive', 'restricted_stock', 'total_payments', 'shared_receipt_with_poi']\n",
    "print original_features\n",
    "print new_features\n",
    "\n",
    "classifier_dict = {}\n",
    "\n",
    "naive = algo_performance(GaussianNB(), \"Naive Bayes\", my_dataset, original_features, new_features)\n",
    "classifier_dict.update(naive)\n",
    "\n",
    "dt_tree = algo_performance(tree.DecisionTreeClassifier(), \"Decision Tree\", my_dataset, original_features, new_features)\n",
    "classifier_dict.update(dt_tree)\n",
    "\n",
    "rnd_forest = algo_performance(RandomForestClassifier(), \"Random Forest\", my_dataset, original_features, new_features)\n",
    "classifier_dict.update(rnd_forest)\n",
    "\n",
    "ada_boost = algo_performance(AdaBoostClassifier(), \"AdaBoost\", my_dataset, original_features, new_features)\n",
    "classifier_dict.update(ada_boost)\n",
    "\n",
    "svm_svc = algo_performance(svm.SVC(), \"Support Vector\", my_dataset, original_features, new_features)\n",
    "classifier_dict.update(svm_svc)\n",
    "\n",
    "print(classifier_dict)\n"
   ]
  },
  {
   "cell_type": "code",
   "execution_count": 311,
   "metadata": {},
   "outputs": [
    {
     "name": "stdout",
     "output_type": "stream",
     "text": [
      "# Mean Accuracy, Precision and Recall for Features\n",
      "|              |original features accuracy|original features precision|original features recall|new features accuracy|new features precision|new features recall|\n",
      "|--------------|-------------------------:|--------------------------:|-----------------------:|--------------------:|---------------------:|------------------:|\n",
      "|Support Vector|                    0.8753|                     0.0000|                  0.0000|               0.8753|                0.0000|             0.0000|\n",
      "|Naive Bayes   |                    0.8466|                     0.3951|                  0.3348|               0.8494|                0.4012|             0.3378|\n",
      "|Random Forest |                    0.8696|                     0.3827|                  0.1680|               0.8631|                0.3442|             0.1555|\n",
      "|AdaBoost      |                    0.8375|                     0.3183|                  0.2390|               0.8381|                0.2827|             0.2191|\n",
      "|Decision Tree |                    0.8281|                     0.3236|                  0.3174|               0.8060|                0.2571|             0.2749|\n"
     ]
    }
   ],
   "source": [
    "import pandas as pd\n",
    "from pytablewriter import MarkdownTableWriter\n",
    "\n",
    "new_pd = pd.DataFrame.from_dict(classifier_dict, orient='index', columns=['original features accuracy', 'original features precision', 'original features recall', \n",
    "                                                               'new features accuracy', 'new features precision', 'new features recall'])\n",
    "\n",
    "writer = MarkdownTableWriter()\n",
    "writer.table_name = \"Mean Accuracy, Precision and Recall for Features\"\n",
    "writer.from_dataframe(\n",
    "    new_pd,\n",
    "    add_index_column=True\n",
    ")\n",
    "writer.write_table()"
   ]
  },
  {
   "cell_type": "code",
   "execution_count": 314,
   "metadata": {},
   "outputs": [],
   "source": [
    "def fine_tune_algo(clf, classifier_name, params, dataset, feature_list):\n",
    "    from sklearn.model_selection import train_test_split, GridSearchCV\n",
    "    from sklearn import preprocessing\n",
    "    data = featureFormat(dataset, feature_list, sort_keys = True)\n",
    "    labels, features = targetFeatureSplit(data)\n",
    "    scaler = preprocessing.MinMaxScaler()\n",
    "    features = scaler.fit_transform(features)\n",
    "    features_train, features_test, labels_train, labels_test = \\\n",
    "        train_test_split(features, labels, test_size=0.3, random_state=42)\n",
    "\n",
    "    # run GridSearchCV with estimator set to chosen classifier\n",
    "    clf_tune = GridSearchCV(estimator = clf, param_grid = params, cv=5, iid= True).fit(features, labels)\n",
    "    \n",
    "    # print out best Estimator params\n",
    "    print \"{0}: Best Estimator params: {1}\".format(classifier_name, clf_tune.best_estimator_)\n",
    "    return clf_tune.best_estimator_"
   ]
  },
  {
   "cell_type": "code",
   "execution_count": 316,
   "metadata": {},
   "outputs": [
    {
     "name": "stdout",
     "output_type": "stream",
     "text": [
      "Decision Tree: Best Estimator params: DecisionTreeClassifier(class_weight=None, criterion='gini', max_depth=None,\n",
      "            max_features=None, max_leaf_nodes=None,\n",
      "            min_impurity_decrease=0.0, min_impurity_split=None,\n",
      "            min_samples_leaf=1, min_samples_split=28,\n",
      "            min_weight_fraction_leaf=0.0, presort=False, random_state=None,\n",
      "            splitter='random')\n",
      "DecisionTreeClassifier(class_weight=None, criterion='gini', max_depth=None,\n",
      "            max_features=None, max_leaf_nodes=None,\n",
      "            min_impurity_decrease=0.0, min_impurity_split=None,\n",
      "            min_samples_leaf=1, min_samples_split=28,\n",
      "            min_weight_fraction_leaf=0.0, presort=False, random_state=None,\n",
      "            splitter='random')\n",
      "Decision Tree took a total time of 0.271\n",
      "Decision Tree took a total time of 0.267\n"
     ]
    }
   ],
   "source": [
    "dt_params = {\n",
    "    'criterion':('gini', 'entropy'),\n",
    "    'min_samples_split' : range(2,50),\n",
    "    'splitter':('best','random')\n",
    "}\n",
    "dt_best_params = fine_tune_algo(tree.DecisionTreeClassifier(), \"Decision Tree\", dt_params, my_dataset, new_features)\n",
    "print dt_best_params\n",
    "dt_tree = algo_performance(dt_best_params, \"Decision Tree\", my_dataset, original_features, new_features)\n"
   ]
  },
  {
   "cell_type": "code",
   "execution_count": 317,
   "metadata": {},
   "outputs": [
    {
     "name": "stdout",
     "output_type": "stream",
     "text": [
      "{'Decision Tree': [0.8610795454545455, 0.30645833333333333, 0.11243551587301588, 0.8625, 0.31989087301587305, 0.15762896825396824]}\n"
     ]
    }
   ],
   "source": [
    "# dt_tree = algo_performance(tree.DecisionTreeClassifier(class_weight=None, criterion='gini', max_depth=None,\n",
    "#             max_features=None, max_leaf_nodes=None,\n",
    "#             min_impurity_decrease=0.0, min_impurity_split=None,\n",
    "#             min_samples_leaf=1, min_samples_split=24,\n",
    "#             min_weight_fraction_leaf=0.0, presort=False, random_state=None,\n",
    "#             splitter='random'), \"Decision Tree\", my_dataset, original_features, new_features)\n",
    "print dt_tree"
   ]
  },
  {
   "cell_type": "code",
   "execution_count": 214,
   "metadata": {},
   "outputs": [
    {
     "name": "stdout",
     "output_type": "stream",
     "text": [
      "Naive Bayes training time: 0.002 s\n",
      "Naive Bayes predicting time: 0.002 s\n",
      "Naive Bayes accuracy:  0.8863636363636364\n",
      "Naive Bayes precision:  0.5\n",
      "Naive Bayes recall:  0.4\n"
     ]
    }
   ],
   "source": [
    "# Provided to give you a starting point. Try a variety of classifiers.\n",
    "# Naive Bayes from nb_author_id.py\n",
    "from sklearn.naive_bayes import GaussianNB\n",
    "# set classifier\n",
    "clf_naive = GaussianNB(priors=None, var_smoothing=1e-09)\n",
    "# reset timeer for logging time to train\n",
    "t0 = time()\n",
    "# fit features and labels\n",
    "clf_naive.fit(features_train, labels_train)\n",
    "# print training time\n",
    "print \"Naive Bayes training time:\", round(time()-t0, 3), \"s\"\n",
    "# reset timeer for logging time to predict\n",
    "t0 = time()\n",
    "# make prediction\n",
    "pred_naive = clf_naive.predict(features_test)\n",
    "# print time to predict\n",
    "print \"Naive Bayes predicting time:\", round(time()-t0, 3), \"s\"\n",
    "# Print Accuracy, Precision, and Recall stats\n",
    "print \"Naive Bayes accuracy: \", accuracy_score(labels_test, pred_naive)\n",
    "print \"Naive Bayes precision: \", precision_score(labels_test, pred_naive)\n",
    "print \"Naive Bayes recall: \", recall_score(labels_test, pred_naive)"
   ]
  },
  {
   "cell_type": "code",
   "execution_count": 201,
   "metadata": {},
   "outputs": [
    {
     "name": "stdout",
     "output_type": "stream",
     "text": [
      "Decision Tree training time: 0.003 s\n",
      "Decision Tree predicting time: 0.001 s\n",
      "Decision Tree accuracty:  0.8409090909090909\n",
      "Decision Tree precision:  0.3333333333333333\n",
      "Decision Tree recall:  0.4\n"
     ]
    }
   ],
   "source": [
    "# Decision Tree from dt_author_id.py\n",
    "from sklearn import tree\n",
    "clf_tree = tree.DecisionTreeClassifier(min_samples_split = 50)\n",
    "t0 = time()\n",
    "clf_tree.fit(features_train, labels_train)\n",
    "print \"Decision Tree training time:\", round(time()-t0, 3), \"s\"\n",
    "t0 = time()\n",
    "pred_tree = clf_tree.predict(features_test)\n",
    "print \"Decision Tree predicting time:\", round(time()-t0, 3), \"s\"\n",
    "print \"Decision Tree accuracty: \", accuracy_score(labels_test, pred_tree)\n",
    "print \"Decision Tree precision: \", precision_score(labels_test, pred_tree)\n",
    "print \"Decision Tree recall: \", recall_score(labels_test, pred_tree)"
   ]
  },
  {
   "cell_type": "code",
   "execution_count": 205,
   "metadata": {},
   "outputs": [
    {
     "name": "stdout",
     "output_type": "stream",
     "text": [
      "Random Forest time: 0.06 s\n",
      "Random Forest predicting time: 0.003 s\n",
      "Random Forest accuracty:  0.9090909090909091\n",
      "Random Forest precision:  0.6666666666666666\n",
      "Random Forest recall:  0.4\n"
     ]
    }
   ],
   "source": [
    "# Random Forest Classifier from choose_your_own\n",
    "from sklearn.ensemble import RandomForestClassifier\n",
    "clf_random_forest = RandomForestClassifier(n_estimators=10, min_samples_split=2)\n",
    "t0 = time()\n",
    "clf_random_forest.fit(features_train, labels_train)\n",
    "print \"Random Forest time:\", round(time()-t0, 3), \"s\"\n",
    "t0 = time()\n",
    "pred_random_forest = clf_random_forest.predict(features_test)\n",
    "print \"Random Forest predicting time:\", round(time()-t0, 3), \"s\"\n",
    "print \"Random Forest accuracty: \", accuracy_score(labels_test, pred_random_forest)\n",
    "print \"Random Forest precision: \", precision_score(labels_test, pred_random_forest)\n",
    "print \"Random Forest recall: \", recall_score(labels_test, pred_random_forest)"
   ]
  },
  {
   "cell_type": "code",
   "execution_count": 190,
   "metadata": {},
   "outputs": [
    {
     "name": "stdout",
     "output_type": "stream",
     "text": [
      "AdaBoost Forest time: 0.376 s\n",
      "AdaBoost predicting time: 0.02 s\n",
      "AdaBoost accuracty:  0.8181818181818182\n",
      "AdaBoost precision:  0.2\n",
      "AdaBoost recall:  0.2\n"
     ]
    }
   ],
   "source": [
    "# AdaBoost Classifier from choose_your_own\n",
    "from sklearn.ensemble import AdaBoostClassifier\n",
    "clf_adaboost = AdaBoostClassifier(base_estimator=None, n_estimators=100, learning_rate=1.0, algorithm='SAMME.R', random_state=None)\n",
    "t0 = time()\n",
    "clf_adaboost.fit(features_train, labels_train)\n",
    "print \"AdaBoost Forest time:\", round(time()-t0, 3), \"s\"\n",
    "t0 = time()\n",
    "pred_adaboost = clf_adaboost.predict(features_test)\n",
    "print \"AdaBoost predicting time:\", round(time()-t0, 3), \"s\"\n",
    "print \"AdaBoost accuracty: \", accuracy_score(labels_test, pred_adaboost)\n",
    "print \"AdaBoost precision: \", precision_score(labels_test, pred_adaboost)\n",
    "print \"AdaBoost recall: \", recall_score(labels_test, pred_adaboost)\n"
   ]
  },
  {
   "cell_type": "code",
   "execution_count": 203,
   "metadata": {},
   "outputs": [
    {
     "name": "stdout",
     "output_type": "stream",
     "text": [
      "Support Vector time: 0.004 s\n",
      "Support Vector time: 0.002 s\n",
      "Support Vector accuracty:  0.8863636363636364\n",
      "Support Vector precision:  0.0\n",
      "Support Vector recall:  0.0\n"
     ]
    }
   ],
   "source": [
    "# Support Vector Classification from \n",
    "from sklearn import svm\n",
    "clf_logistic_regression = svm.SVC(gamma='auto')\n",
    "t0 = time()\n",
    "clf_logistic_regression.fit(features_train, labels_train)\n",
    "print \"Support Vector time:\", round(time()-t0, 3), \"s\"\n",
    "t0 = time()\n",
    "pred_logistic_regression = clf_logistic_regression.predict(features_test)\n",
    "print \"Support Vector time:\", round(time()-t0, 3), \"s\"\n",
    "print \"Support Vector accuracty: \", accuracy_score(labels_test, pred_logistic_regression)\n",
    "print \"Support Vector precision: \", precision_score(labels_test, pred_logistic_regression)\n",
    "print \"Support Vector recall: \", recall_score(labels_test, pred_logistic_regression)"
   ]
  },
  {
   "cell_type": "code",
   "execution_count": 206,
   "metadata": {},
   "outputs": [
    {
     "name": "stdout",
     "output_type": "stream",
     "text": [
      "['poi', 'salary', 'deferral_payments', 'total_payments', 'loan_advances', 'bonus', 'restricted_stock_deferred', 'deferred_income', 'total_stock_value', 'expenses', 'exercised_stock_options', 'other', 'long_term_incentive', 'restricted_stock', 'director_fees', 'to_messages', 'from_poi_to_this_person', 'from_messages', 'from_this_person_to_poi', 'shared_receipt_with_poi', 'fraction_from_poi', 'fraction_to_poi']\n"
     ]
    }
   ],
   "source": [
    "print new_feature_list"
   ]
  },
  {
   "cell_type": "code",
   "execution_count": 207,
   "metadata": {},
   "outputs": [
    {
     "name": "stdout",
     "output_type": "stream",
     "text": [
      "['poi', 'exercised_stock_options', 'total_stock_value', 'bonus', 'salary', 'fraction_to_poi', 'deferred_income', 'long_term_incentive', 'restricted_stock', 'total_payments', 'shared_receipt_with_poi']\n"
     ]
    }
   ],
   "source": [
    "print kBest_features"
   ]
  },
  {
   "cell_type": "code",
   "execution_count": 208,
   "metadata": {},
   "outputs": [
    {
     "name": "stdout",
     "output_type": "stream",
     "text": [
      "['poi', 'salary']\n"
     ]
    }
   ],
   "source": [
    "print features_list"
   ]
  },
  {
   "cell_type": "code",
   "execution_count": 211,
   "metadata": {},
   "outputs": [],
   "source": []
  },
  {
   "cell_type": "code",
   "execution_count": 225,
   "metadata": {},
   "outputs": [
    {
     "name": "stdout",
     "output_type": "stream",
     "text": [
      "Best Estiamtor:  GaussianNB(priors=None, var_smoothing=1e-09)\n"
     ]
    }
   ],
   "source": [
    "## Train classifiers\n",
    "\n",
    "from sklearn.model_selection import train_test_split\n",
    "from sklearn.metrics import accuracy_score, precision_score, recall_score\n",
    "\n",
    "from sklearn.model_selection import learning_curve, GridSearchCV\n",
    "\n",
    "params = {\n",
    "    'criterion': ('gini', 'entropy'),\n",
    "    'splitter': ('best', 'random'),\n",
    "    'max_depth': range(1,25),\n",
    "    'min_samples_split':range(2,10),\n",
    "    'random_state': [42]\n",
    "}\n",
    "clf_tune = GridSearchCV(estimator = GaussianNB(), param_grid = {}, cv=5, iid= True).fit(features, labels)\n",
    "print \"Best Estiamtor: \", clf_tune.best_estimator_\n"
   ]
  },
  {
   "cell_type": "code",
   "execution_count": 222,
   "metadata": {},
   "outputs": [
    {
     "name": "stdout",
     "output_type": "stream",
     "text": [
      "[1, 2, 3, 4, 5, 6, 7, 8, 9, 10, 11, 12, 13, 14, 15, 16, 17, 18, 19, 20, 21, 22, 23, 24]\n"
     ]
    }
   ],
   "source": [
    "print range(1,25)"
   ]
  },
  {
   "cell_type": "markdown",
   "metadata": {},
   "source": [
    "<code>GaussianNB(priors=None, var_smoothing=1e-09)\n",
    "Accuracy: 0.84200       Precision: 0.38622      Recall: 0.31400 F1: 0.34639     F2: 0.32620\n",
    "Total predictions: 15000        True positives:  628    False positives:  998   False negatives: 1372   \n",
    "True negatives: 12002\n",
    "</code>"
   ]
  },
  {
   "cell_type": "code",
   "execution_count": null,
   "metadata": {},
   "outputs": [],
   "source": []
  }
 ],
 "metadata": {
  "kernelspec": {
   "display_name": "Python 2",
   "language": "python",
   "name": "python2"
  },
  "language_info": {
   "codemirror_mode": {
    "name": "ipython",
    "version": 2
   },
   "file_extension": ".py",
   "mimetype": "text/x-python",
   "name": "python",
   "nbconvert_exporter": "python",
   "pygments_lexer": "ipython2",
   "version": "2.7.16"
  }
 },
 "nbformat": 4,
 "nbformat_minor": 2
}
